{
 "cells": [
  {
   "cell_type": "code",
   "execution_count": 11,
   "metadata": {},
   "outputs": [],
   "source": [
    "import pandas as pd\n",
    "from __future__ import division\n",
    "\n",
    "\n",
    "\n",
    "df_participants = pd.read_csv(\"participants.csv\")"
   ]
  },
  {
   "cell_type": "code",
   "execution_count": 22,
   "metadata": {},
   "outputs": [],
   "source": [
    "def round_robin_generator(list):\n",
    "    \"\"\" Create a schedule for the teams in the list and return it\"\"\"\n",
    "    s = []\n",
    "    if len(list) % 2 == 1: list = list + [\"BYE\"]\n",
    "    for i in range(len(list)-1):\n",
    "        mid = len(list) // 2\n",
    "        l1 = list[:mid]\n",
    "        l2 = list[mid:]\n",
    "        l2.reverse()\t\n",
    "        # Switch sides after each round\n",
    "        if(i % 2 == 1):\n",
    "            s = s + [ zip(l1, l2) ]\n",
    "        else:\n",
    "            s = s + [ zip(l2, l1) ]\n",
    "        list.insert(1, list.pop())\n",
    "    return s\n",
    "\n",
    "\n",
    "def create_pairings(df):\n",
    "    players = df[\"Name\"].to_list()\n",
    "\n",
    "    rr_rounds = round_robin_generator(players)\n",
    "    rounds = []\n",
    "    for index, round in enumerate(rr_rounds):\n",
    "        for x in list(round):\n",
    "            rounds.append([index+1]+ list(x) )\n",
    "            rounds.append([index+len(players)]+ list(x)[::-1] )\n",
    "\n",
    "\n",
    "    df_out = pd.DataFrame(rounds, columns=[\"Round\", \"White\", \"Black\"])\n",
    "    df_out[\"Result\"] = [1,0]\n",
    "    df_out[\"Done\"] = True\n",
    "    df_out = df_out.sort_values(\"Round\", ascending=True).set_index(\"Round\")\n",
    "    return df_out"
   ]
  },
  {
   "cell_type": "code",
   "execution_count": 23,
   "metadata": {},
   "outputs": [],
   "source": [
    "pairings_df = create_pairings(df_participants)"
   ]
  },
  {
   "cell_type": "code",
   "execution_count": 48,
   "metadata": {},
   "outputs": [
    {
     "name": "stdout",
     "output_type": "stream",
     "text": [
      "[('BYE', 'A'), ('C', 'B')]\n",
      "[('A', 'C'), ('BYE', 'B')]\n",
      "[('B', 'A'), ('BYE', 'C')]\n"
     ]
    },
    {
     "data": {
      "text/html": [
       "<div>\n",
       "<style scoped>\n",
       "    .dataframe tbody tr th:only-of-type {\n",
       "        vertical-align: middle;\n",
       "    }\n",
       "\n",
       "    .dataframe tbody tr th {\n",
       "        vertical-align: top;\n",
       "    }\n",
       "\n",
       "    .dataframe thead th {\n",
       "        text-align: right;\n",
       "    }\n",
       "</style>\n",
       "<table border=\"1\" class=\"dataframe\">\n",
       "  <thead>\n",
       "    <tr style=\"text-align: right;\">\n",
       "      <th></th>\n",
       "      <th>Round</th>\n",
       "      <th>White</th>\n",
       "      <th>Black</th>\n",
       "    </tr>\n",
       "  </thead>\n",
       "  <tbody>\n",
       "  </tbody>\n",
       "</table>\n",
       "</div>"
      ],
      "text/plain": [
       "Empty DataFrame\n",
       "Columns: [Round, White, Black]\n",
       "Index: []"
      ]
     },
     "execution_count": 48,
     "metadata": {},
     "output_type": "execute_result"
    }
   ],
   "source": [
    "def round_robin_generator(list):\n",
    "    \"\"\" Create a schedule for the teams in the list and return it\"\"\"\n",
    "    s = []\n",
    "    if len(list) % 2 == 1: list = list + [\"BYE\"]\n",
    "    for i in range(len(list)-1):\n",
    "        mid = len(list) // 2\n",
    "        l1 = list[:mid]\n",
    "        l2 = list[mid:]\n",
    "        l2.reverse()\t\n",
    "        # Switch sides after each round\n",
    "        if(i % 2 == 1):\n",
    "            s = s + [ zip(l1, l2) ]\n",
    "        else:\n",
    "            s = s + [ zip(l2, l1) ]\n",
    "        list.insert(1, list.pop())\n",
    "    return s\n",
    "players = [\"A\", \"B\", \"C\"]\n",
    "round_robin_generator(players)\n",
    "rr_rounds = round_robin_generator(players)\n",
    "\n",
    "number_of_rounds = 3\n",
    "alternate_BW = True\n",
    "output = {\"Round\": [], \"White\": [], \"Black\": []}\n",
    "for round_number in range(number_of_rounds):\n",
    "    print(list(rr_rounds[round_number]))\n",
    "    for match in rr_rounds[round_number]:\n",
    "        output[\"Round\"].append(round_number+1)\n",
    "        output[\"White\"].append(match[0])\n",
    "        output[\"Black\"].append(match[1])\n",
    "        output[\"Round\"].append(round_number+2)\n",
    "        output[\"White\"].append(match[1])\n",
    "        output[\"Black\"].append(match[0])\n",
    "df = pd.DataFrame(output)\n",
    "df[df[\"Round\"]<=number_of_rounds].sort_values(\"Round\")\n"
   ]
  },
  {
   "cell_type": "code",
   "execution_count": 21,
   "metadata": {},
   "outputs": [
    {
     "data": {
      "text/html": [
       "<div>\n",
       "<style scoped>\n",
       "    .dataframe tbody tr th:only-of-type {\n",
       "        vertical-align: middle;\n",
       "    }\n",
       "\n",
       "    .dataframe tbody tr th {\n",
       "        vertical-align: top;\n",
       "    }\n",
       "\n",
       "    .dataframe thead th {\n",
       "        text-align: right;\n",
       "    }\n",
       "</style>\n",
       "<table border=\"1\" class=\"dataframe\">\n",
       "  <thead>\n",
       "    <tr style=\"text-align: right;\">\n",
       "      <th></th>\n",
       "      <th>Name</th>\n",
       "      <th>Result</th>\n",
       "    </tr>\n",
       "  </thead>\n",
       "  <tbody>\n",
       "    <tr>\n",
       "      <th>0</th>\n",
       "      <td>Alice</td>\n",
       "      <td>1.0</td>\n",
       "    </tr>\n",
       "    <tr>\n",
       "      <th>1</th>\n",
       "      <td>Bob</td>\n",
       "      <td>1.0</td>\n",
       "    </tr>\n",
       "  </tbody>\n",
       "</table>\n",
       "</div>"
      ],
      "text/plain": [
       "    Name  Result\n",
       "0  Alice     1.0\n",
       "1    Bob     1.0"
      ]
     },
     "execution_count": 21,
     "metadata": {},
     "output_type": "execute_result"
    }
   ],
   "source": [
    "result_df"
   ]
  },
  {
   "cell_type": "code",
   "execution_count": 50,
   "metadata": {},
   "outputs": [
    {
     "name": "stdout",
     "output_type": "stream",
     "text": [
      "Cougars - Lions\n",
      "Jaguars - Tigers\n",
      "Lions - Jaguars\n",
      "Cougars - Tigers\n",
      "Tigers - Lions\n",
      "Cougars - Jaguars\n"
     ]
    }
   ],
   "source": [
    "\n",
    "div1 = [\"Lions\", \"Tigers\", \"Jaguars\", \"Cougars\"]\n",
    "div2 = [\"Whales\", \"Sharks\", \"Piranhas\", \"Alligators\"]\n",
    "div3 = [\"Cubs\", \"Kittens\", \"Puppies\", \"Calfs\"]\n",
    "\n",
    "def create_schedule(list):\n",
    "    \"\"\" Create a schedule for the teams in the list and return it\"\"\"\n",
    "    s = []\n",
    "\n",
    "    if len(list) % 2 == 1: list = list + [\"BYE\"]\n",
    "\n",
    "    for i in range(len(list)-1):\n",
    "\n",
    "        mid = int(len(list) / 2)\n",
    "        l1 = list[:mid]\n",
    "        l2 = list[mid:]\n",
    "        l2.reverse()\t\n",
    "\n",
    "        # Switch sides after each round\n",
    "        if(i % 2 == 1):\n",
    "            s = s + [ zip(l1, l2) ]\n",
    "        else:\n",
    "            s = s + [ zip(l2, l1) ]\n",
    "\n",
    "        list.insert(1, list.pop())\n",
    "\n",
    "    return s\n",
    "\n",
    "\n",
    "\n",
    "for round in create_schedule(div1):\n",
    "    for match in round:\n",
    "        print(match[0] + \" - \" + match[1])"
   ]
  },
  {
   "cell_type": "code",
   "execution_count": 1,
   "metadata": {},
   "outputs": [
    {
     "name": "stdout",
     "output_type": "stream",
     "text": [
      "\n",
      "Round 1 \n",
      "\n",
      "1 - 4\n",
      "2 - 3\n",
      "\n",
      "Round 2 \n",
      "\n",
      "4 - 3\n",
      "1 - 2\n",
      "\n",
      "Round 3 \n",
      "\n",
      "2 - 4\n",
      "3 - 1\n"
     ]
    }
   ],
   "source": [
    "def printpairing(r,A):\n",
    "    print(\"\\nRound\",r,\"\\n\")\n",
    "    \"\"\"Here I check if the round is even or odd\n",
    "       because in even round the biggest number player takes white\"\"\"\n",
    "    if r%2==1: \n",
    "        for i in range(half):\n",
    "        #In odd round pairs given by the the following algorithm\n",
    "            print(A[i],\"-\",A[n-1-i])\n",
    "    else:\n",
    "#In even round pairs we have to seperate the 1st table and after use\n",
    "#the same algorithm\n",
    "        print(A[n-1],\"-\",A[0])\n",
    "        for i in range(1,half):\n",
    "            print(A[i],\"-\",A[n-1-i])\n",
    "        \n",
    "#ask how many players will play\n",
    "n=4\n",
    "#check if players are even or odd number\n",
    "if n%2==1:\n",
    "    n+=1\n",
    "    print(n,\"is meant to be the bye\")\n",
    "half=int(n/2)\n",
    "#Create the list of players\n",
    "A=[x for x in range(1,n+1)]\n",
    "#Print 1st round pairing\n",
    "printpairing(1,A)\n",
    "for gyros in range(2,n):\n",
    "    \"\"\"Remove and save the constant player\"\"\"\n",
    "    K=A[n-1]\n",
    "    del A[n-1]\n",
    "    \"\"\"Moving in the first half of the list to the end of it\"\"\"\n",
    "    A.extend(x for x in A[0:half])\n",
    "    \"\"\"Saving the 2nd half to the first one\"\"\"\n",
    "    A[0:half-1]=A[half:n-1]\n",
    "    \"\"\"Remove double entries\"\"\"\n",
    "    del A[half-1:n-1]\n",
    "    \"\"\"Adding constant player\"\"\"\n",
    "    A.append(K)\n",
    "    \"\"\"Make the pairing\"\"\"\n",
    "    printpairing(gyros,A)"
   ]
  },
  {
   "cell_type": "code",
   "execution_count": 5,
   "metadata": {},
   "outputs": [
    {
     "name": "stdout",
     "output_type": "stream",
     "text": [
      "[('Carlsen', 'So'), ('Nakamura', 'Duda')]\n",
      "[('So', 'Duda'), ('Carlsen', 'Nakamura')]\n",
      "[('Nakamura', 'So'), ('Duda', 'Carlsen')]\n"
     ]
    }
   ],
   "source": [
    "\n",
    "from round_robin import round_robin\n",
    "\n",
    "teams = [\"Carlsen\", \"Nakamura\", \"Duda\", \"So\"]\n",
    "#teams = [f\"{s:2}\" for s in range(1, 15)]\n",
    "\n",
    "    print(matches)"
   ]
  },
  {
   "cell_type": "code",
   "execution_count": null,
   "metadata": {},
   "outputs": [],
   "source": []
  }
 ],
 "metadata": {
  "kernelspec": {
   "display_name": "streamlit",
   "language": "python",
   "name": "python3"
  },
  "language_info": {
   "codemirror_mode": {
    "name": "ipython",
    "version": 3
   },
   "file_extension": ".py",
   "mimetype": "text/x-python",
   "name": "python",
   "nbconvert_exporter": "python",
   "pygments_lexer": "ipython3",
   "version": "3.10.9"
  },
  "orig_nbformat": 4,
  "vscode": {
   "interpreter": {
    "hash": "2bb147cb2c689615db16b5f3a9ed29d3fb197938dd2984ebbba95b9f8ed766fc"
   }
  }
 },
 "nbformat": 4,
 "nbformat_minor": 2
}
